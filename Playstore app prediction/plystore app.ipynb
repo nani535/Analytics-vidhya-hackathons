{
 "cells": [
  {
   "cell_type": "code",
   "execution_count": 1,
   "metadata": {},
   "outputs": [],
   "source": [
    "import pandas as pd\n",
    "import numpy as np\n",
    "import matplotlib.pyplot as plt\n",
    "import seaborn as sns\n",
    "import warnings\n",
    "warnings.filterwarnings('ignore')"
   ]
  },
  {
   "cell_type": "code",
   "execution_count": 2,
   "metadata": {},
   "outputs": [],
   "source": [
    "train_data=pd.read_csv(r\"C:\\Users\\user\\Desktop\\Data sets\\PlayStoreApps-ParticipantsData\\train.csv\")\n",
    "test_data=pd.read_csv(r\"C:\\Users\\user\\Desktop\\Data sets\\PlayStoreApps-ParticipantsData\\test.csv\")"
   ]
  },
  {
   "cell_type": "code",
   "execution_count": 3,
   "metadata": {},
   "outputs": [
    {
     "name": "stdout",
     "output_type": "stream",
     "text": [
      "<class 'pandas.core.frame.DataFrame'>\n",
      "RangeIndex: 16516 entries, 0 to 16515\n",
      "Data columns (total 11 columns):\n",
      " #   Column               Non-Null Count  Dtype  \n",
      "---  ------               --------------  -----  \n",
      " 0   Offered_By           16516 non-null  object \n",
      " 1   Category             16516 non-null  object \n",
      " 2   Rating               16516 non-null  float64\n",
      " 3   Reviews              16516 non-null  int64  \n",
      " 4   Size                 16516 non-null  object \n",
      " 5   Price                16516 non-null  object \n",
      " 6   Content_Rating       16516 non-null  object \n",
      " 7   Last_Updated_On      16516 non-null  object \n",
      " 8   Release_Version      16516 non-null  object \n",
      " 9   OS_Version_Required  16516 non-null  object \n",
      " 10  Downloads            16516 non-null  object \n",
      "dtypes: float64(1), int64(1), object(9)\n",
      "memory usage: 1.4+ MB\n"
     ]
    }
   ],
   "source": [
    "train_data.info()"
   ]
  },
  {
   "cell_type": "code",
   "execution_count": 4,
   "metadata": {},
   "outputs": [
    {
     "data": {
      "text/plain": [
       "Offered_By             0\n",
       "Category               0\n",
       "Rating                 0\n",
       "Reviews                0\n",
       "Size                   0\n",
       "Price                  0\n",
       "Content_Rating         0\n",
       "Last_Updated_On        0\n",
       "Release_Version        0\n",
       "OS_Version_Required    0\n",
       "Downloads              0\n",
       "dtype: int64"
      ]
     },
     "execution_count": 4,
     "metadata": {},
     "output_type": "execute_result"
    }
   ],
   "source": [
    "np.sum(train_data.isnull())"
   ]
  },
  {
   "cell_type": "code",
   "execution_count": 5,
   "metadata": {},
   "outputs": [
    {
     "data": {
      "text/plain": [
       "(16516, 11)"
      ]
     },
     "execution_count": 5,
     "metadata": {},
     "output_type": "execute_result"
    }
   ],
   "source": [
    "train_data.shape"
   ]
  },
  {
   "cell_type": "code",
   "execution_count": 6,
   "metadata": {},
   "outputs": [
    {
     "data": {
      "text/plain": [
       "Offered_By              object\n",
       "Category                object\n",
       "Rating                 float64\n",
       "Reviews                  int64\n",
       "Size                    object\n",
       "Price                   object\n",
       "Content_Rating          object\n",
       "Last_Updated_On         object\n",
       "Release_Version         object\n",
       "OS_Version_Required     object\n",
       "Downloads               object\n",
       "dtype: object"
      ]
     },
     "execution_count": 6,
     "metadata": {},
     "output_type": "execute_result"
    }
   ],
   "source": [
    "train_data.dtypes"
   ]
  },
  {
   "cell_type": "code",
   "execution_count": 7,
   "metadata": {},
   "outputs": [
    {
     "data": {
      "text/html": [
       "<div>\n",
       "<style scoped>\n",
       "    .dataframe tbody tr th:only-of-type {\n",
       "        vertical-align: middle;\n",
       "    }\n",
       "\n",
       "    .dataframe tbody tr th {\n",
       "        vertical-align: top;\n",
       "    }\n",
       "\n",
       "    .dataframe thead th {\n",
       "        text-align: right;\n",
       "    }\n",
       "</style>\n",
       "<table border=\"1\" class=\"dataframe\">\n",
       "  <thead>\n",
       "    <tr style=\"text-align: right;\">\n",
       "      <th></th>\n",
       "      <th>Offered_By</th>\n",
       "      <th>Category</th>\n",
       "      <th>Rating</th>\n",
       "      <th>Reviews</th>\n",
       "      <th>Size</th>\n",
       "      <th>Price</th>\n",
       "      <th>Content_Rating</th>\n",
       "      <th>Last_Updated_On</th>\n",
       "      <th>Release_Version</th>\n",
       "      <th>OS_Version_Required</th>\n",
       "      <th>Downloads</th>\n",
       "    </tr>\n",
       "  </thead>\n",
       "  <tbody>\n",
       "    <tr>\n",
       "      <th>0</th>\n",
       "      <td>ps_id-24654</td>\n",
       "      <td>Finance</td>\n",
       "      <td>4.18</td>\n",
       "      <td>1481</td>\n",
       "      <td>Varies with device</td>\n",
       "      <td>Free</td>\n",
       "      <td>Everyone</td>\n",
       "      <td>May 05 2020</td>\n",
       "      <td>Varies with device</td>\n",
       "      <td>Varies with device</td>\n",
       "      <td>100,000+</td>\n",
       "    </tr>\n",
       "    <tr>\n",
       "      <th>1</th>\n",
       "      <td>ps_id-35329</td>\n",
       "      <td>Music And Audio</td>\n",
       "      <td>4.81</td>\n",
       "      <td>302</td>\n",
       "      <td>10M</td>\n",
       "      <td>Free</td>\n",
       "      <td>Everyone</td>\n",
       "      <td>Mar 26 2020</td>\n",
       "      <td>3.9.18</td>\n",
       "      <td>4.1 and up</td>\n",
       "      <td>5,000+</td>\n",
       "    </tr>\n",
       "    <tr>\n",
       "      <th>2</th>\n",
       "      <td>ps_id-11044</td>\n",
       "      <td>Game Casual</td>\n",
       "      <td>4.27</td>\n",
       "      <td>374</td>\n",
       "      <td>27M</td>\n",
       "      <td>Free</td>\n",
       "      <td>Everyone</td>\n",
       "      <td>May 01 2020</td>\n",
       "      <td>1.10.1</td>\n",
       "      <td>4.1 and up</td>\n",
       "      <td>10,000+</td>\n",
       "    </tr>\n",
       "    <tr>\n",
       "      <th>3</th>\n",
       "      <td>ps_id-36068</td>\n",
       "      <td>Business</td>\n",
       "      <td>4.03</td>\n",
       "      <td>122058</td>\n",
       "      <td>Varies with device</td>\n",
       "      <td>Free</td>\n",
       "      <td>Teen</td>\n",
       "      <td>May 02 2020</td>\n",
       "      <td>Varies with device</td>\n",
       "      <td>Varies with device</td>\n",
       "      <td>10,000,000+</td>\n",
       "    </tr>\n",
       "    <tr>\n",
       "      <th>4</th>\n",
       "      <td>ps_id-35831</td>\n",
       "      <td>Medical</td>\n",
       "      <td>4.60</td>\n",
       "      <td>358</td>\n",
       "      <td>Varies with device</td>\n",
       "      <td>297.5742</td>\n",
       "      <td>Everyone</td>\n",
       "      <td>Nov 29 2018</td>\n",
       "      <td>Varies with device</td>\n",
       "      <td>Varies with device</td>\n",
       "      <td>5,000+</td>\n",
       "    </tr>\n",
       "  </tbody>\n",
       "</table>\n",
       "</div>"
      ],
      "text/plain": [
       "    Offered_By         Category  Rating  Reviews                Size  \\\n",
       "0  ps_id-24654          Finance    4.18     1481  Varies with device   \n",
       "1  ps_id-35329  Music And Audio    4.81      302                 10M   \n",
       "2  ps_id-11044      Game Casual    4.27      374                 27M   \n",
       "3  ps_id-36068         Business    4.03   122058  Varies with device   \n",
       "4  ps_id-35831          Medical    4.60      358  Varies with device   \n",
       "\n",
       "      Price Content_Rating Last_Updated_On     Release_Version  \\\n",
       "0      Free       Everyone     May 05 2020  Varies with device   \n",
       "1      Free       Everyone     Mar 26 2020              3.9.18   \n",
       "2      Free       Everyone     May 01 2020              1.10.1   \n",
       "3      Free           Teen     May 02 2020  Varies with device   \n",
       "4  297.5742       Everyone     Nov 29 2018  Varies with device   \n",
       "\n",
       "  OS_Version_Required    Downloads  \n",
       "0  Varies with device     100,000+  \n",
       "1          4.1 and up       5,000+  \n",
       "2          4.1 and up      10,000+  \n",
       "3  Varies with device  10,000,000+  \n",
       "4  Varies with device       5,000+  "
      ]
     },
     "execution_count": 7,
     "metadata": {},
     "output_type": "execute_result"
    }
   ],
   "source": [
    "train_data.head()"
   ]
  },
  {
   "cell_type": "code",
   "execution_count": 8,
   "metadata": {},
   "outputs": [],
   "source": [
    "test_data['Downloads']=-999"
   ]
  },
  {
   "cell_type": "code",
   "execution_count": 9,
   "metadata": {},
   "outputs": [],
   "source": [
    "concat=pd.concat([train_data,test_data])"
   ]
  },
  {
   "cell_type": "code",
   "execution_count": 10,
   "metadata": {},
   "outputs": [
    {
     "data": {
      "text/plain": [
       "(41292, 11)"
      ]
     },
     "execution_count": 10,
     "metadata": {},
     "output_type": "execute_result"
    }
   ],
   "source": [
    "concat.shape"
   ]
  },
  {
   "cell_type": "code",
   "execution_count": 11,
   "metadata": {},
   "outputs": [
    {
     "data": {
      "text/plain": [
       "(24776, 11)"
      ]
     },
     "execution_count": 11,
     "metadata": {},
     "output_type": "execute_result"
    }
   ],
   "source": [
    "test_data.shape"
   ]
  },
  {
   "cell_type": "code",
   "execution_count": 12,
   "metadata": {},
   "outputs": [
    {
     "data": {
      "text/plain": [
       "41292"
      ]
     },
     "execution_count": 12,
     "metadata": {},
     "output_type": "execute_result"
    }
   ],
   "source": [
    "24776+16516"
   ]
  },
  {
   "cell_type": "code",
   "execution_count": 13,
   "metadata": {},
   "outputs": [
    {
     "data": {
      "text/html": [
       "<div>\n",
       "<style scoped>\n",
       "    .dataframe tbody tr th:only-of-type {\n",
       "        vertical-align: middle;\n",
       "    }\n",
       "\n",
       "    .dataframe tbody tr th {\n",
       "        vertical-align: top;\n",
       "    }\n",
       "\n",
       "    .dataframe thead th {\n",
       "        text-align: right;\n",
       "    }\n",
       "</style>\n",
       "<table border=\"1\" class=\"dataframe\">\n",
       "  <thead>\n",
       "    <tr style=\"text-align: right;\">\n",
       "      <th></th>\n",
       "      <th>Offered_By</th>\n",
       "      <th>Category</th>\n",
       "      <th>Rating</th>\n",
       "      <th>Reviews</th>\n",
       "      <th>Size</th>\n",
       "      <th>Price</th>\n",
       "      <th>Content_Rating</th>\n",
       "      <th>Last_Updated_On</th>\n",
       "      <th>Release_Version</th>\n",
       "      <th>OS_Version_Required</th>\n",
       "      <th>Downloads</th>\n",
       "    </tr>\n",
       "  </thead>\n",
       "  <tbody>\n",
       "    <tr>\n",
       "      <th>24771</th>\n",
       "      <td>ps_id-30176</td>\n",
       "      <td>Shopping</td>\n",
       "      <td>3.74</td>\n",
       "      <td>38</td>\n",
       "      <td>21M</td>\n",
       "      <td>Free</td>\n",
       "      <td>Everyone</td>\n",
       "      <td>Feb 16 2020</td>\n",
       "      <td>2.4.20</td>\n",
       "      <td>4.1 and up</td>\n",
       "      <td>-999</td>\n",
       "    </tr>\n",
       "    <tr>\n",
       "      <th>24772</th>\n",
       "      <td>ps_id-5357</td>\n",
       "      <td>Auto And Vehicles</td>\n",
       "      <td>4.80</td>\n",
       "      <td>4</td>\n",
       "      <td>4.5M</td>\n",
       "      <td>Free</td>\n",
       "      <td>Everyone</td>\n",
       "      <td>Jan 02 2019</td>\n",
       "      <td>1.3</td>\n",
       "      <td>5.0 and up</td>\n",
       "      <td>-999</td>\n",
       "    </tr>\n",
       "    <tr>\n",
       "      <th>24773</th>\n",
       "      <td>ps_id-1920</td>\n",
       "      <td>Education</td>\n",
       "      <td>4.78</td>\n",
       "      <td>499</td>\n",
       "      <td>1.1M</td>\n",
       "      <td>Free</td>\n",
       "      <td>Everyone</td>\n",
       "      <td>Feb 16 2018</td>\n",
       "      <td>1.1</td>\n",
       "      <td>4.0.3 and up</td>\n",
       "      <td>-999</td>\n",
       "    </tr>\n",
       "    <tr>\n",
       "      <th>24774</th>\n",
       "      <td>ps_id-6655</td>\n",
       "      <td>Game Puzzle</td>\n",
       "      <td>4.61</td>\n",
       "      <td>328050</td>\n",
       "      <td>72M</td>\n",
       "      <td>Free</td>\n",
       "      <td>Everyone</td>\n",
       "      <td>May 02 2020</td>\n",
       "      <td>2.5.3</td>\n",
       "      <td>4.1 and up</td>\n",
       "      <td>-999</td>\n",
       "    </tr>\n",
       "    <tr>\n",
       "      <th>24775</th>\n",
       "      <td>ps_id-3916</td>\n",
       "      <td>Finance</td>\n",
       "      <td>3.98</td>\n",
       "      <td>1467</td>\n",
       "      <td>18M</td>\n",
       "      <td>Free</td>\n",
       "      <td>Everyone</td>\n",
       "      <td>Apr 30 2020</td>\n",
       "      <td>2.25.2</td>\n",
       "      <td>4.4 and up</td>\n",
       "      <td>-999</td>\n",
       "    </tr>\n",
       "  </tbody>\n",
       "</table>\n",
       "</div>"
      ],
      "text/plain": [
       "        Offered_By           Category  Rating  Reviews  Size Price  \\\n",
       "24771  ps_id-30176           Shopping    3.74       38   21M  Free   \n",
       "24772   ps_id-5357  Auto And Vehicles    4.80        4  4.5M  Free   \n",
       "24773   ps_id-1920          Education    4.78      499  1.1M  Free   \n",
       "24774   ps_id-6655        Game Puzzle    4.61   328050   72M  Free   \n",
       "24775   ps_id-3916            Finance    3.98     1467   18M  Free   \n",
       "\n",
       "      Content_Rating Last_Updated_On Release_Version OS_Version_Required  \\\n",
       "24771       Everyone     Feb 16 2020          2.4.20          4.1 and up   \n",
       "24772       Everyone     Jan 02 2019             1.3          5.0 and up   \n",
       "24773       Everyone     Feb 16 2018             1.1        4.0.3 and up   \n",
       "24774       Everyone     May 02 2020           2.5.3          4.1 and up   \n",
       "24775       Everyone     Apr 30 2020          2.25.2          4.4 and up   \n",
       "\n",
       "      Downloads  \n",
       "24771      -999  \n",
       "24772      -999  \n",
       "24773      -999  \n",
       "24774      -999  \n",
       "24775      -999  "
      ]
     },
     "execution_count": 13,
     "metadata": {},
     "output_type": "execute_result"
    }
   ],
   "source": [
    "concat.tail()"
   ]
  },
  {
   "cell_type": "code",
   "execution_count": 14,
   "metadata": {},
   "outputs": [
    {
     "data": {
      "text/plain": [
       "array(['100,000+', '5,000+', '10,000+', '10,000,000+', '50,000+',\n",
       "       '1,000,000+', '5,000,000+', '500,000+', '1,000+', '1,000,000,000+',\n",
       "       '50,000,000+', '100+', '100,000,000+', '500+', '10+', '50+',\n",
       "       '500,000,000+', '5,000,000,000+'], dtype=object)"
      ]
     },
     "execution_count": 14,
     "metadata": {},
     "output_type": "execute_result"
    }
   ],
   "source": [
    "train_data['Downloads'].unique()"
   ]
  },
  {
   "cell_type": "code",
   "execution_count": 15,
   "metadata": {},
   "outputs": [
    {
     "data": {
      "text/plain": [
       "array(['100,000+', '5,000+', '10,000+', '10,000,000+', '50,000+',\n",
       "       '1,000,000+', '5,000,000+', '500,000+', '1,000+', '1,000,000,000+',\n",
       "       '50,000,000+', '100+', '100,000,000+', '500+', '10+', '50+',\n",
       "       '500,000,000+', '5,000,000,000+', -999], dtype=object)"
      ]
     },
     "execution_count": 15,
     "metadata": {},
     "output_type": "execute_result"
    }
   ],
   "source": [
    "concat['Downloads'].unique()"
   ]
  },
  {
   "cell_type": "code",
   "execution_count": 16,
   "metadata": {},
   "outputs": [
    {
     "data": {
      "text/plain": [
       "<matplotlib.axes._subplots.AxesSubplot at 0x1e822381f40>"
      ]
     },
     "execution_count": 16,
     "metadata": {},
     "output_type": "execute_result"
    },
    {
     "data": {
      "image/png": "[encoded data removed]",
      "text/plain": [
       "<Figure size 1800x360 with 1 Axes>"
      ]
     },
     "metadata": {
      "needs_background": "light"
     },
     "output_type": "display_data"
    }
   ],
   "source": [
    "plt.figure(figsize=(25,5))\n",
    "sns.countplot(data=concat,x='Downloads')\n"
   ]
  },
  {
   "cell_type": "code",
   "execution_count": 17,
   "metadata": {},
   "outputs": [],
   "source": [
    "concat['Price']=concat['Price'].replace({'Free':'0'})"
   ]
  },
  {
   "cell_type": "code",
   "execution_count": 18,
   "metadata": {},
   "outputs": [],
   "source": [
    "concat['Price']=concat['Price'].astype('float')"
   ]
  },
  {
   "cell_type": "code",
   "execution_count": 19,
   "metadata": {},
   "outputs": [
    {
     "data": {
      "text/plain": [
       "May 06 2020    1089\n",
       "May 05 2020     859\n",
       "May 01 2020     673\n",
       "May 02 2020     632\n",
       "Apr 30 2020     563\n",
       "               ... \n",
       "Nov 12 2014       1\n",
       "Feb 10 2015       1\n",
       "May 27 2014       1\n",
       "Dec 13 2013       1\n",
       "Mar 10 2015       1\n",
       "Name: Last_Updated_On, Length: 2012, dtype: int64"
      ]
     },
     "execution_count": 19,
     "metadata": {},
     "output_type": "execute_result"
    }
   ],
   "source": [
    "concat['Last_Updated_On'].value_counts()"
   ]
  },
  {
   "cell_type": "code",
   "execution_count": 20,
   "metadata": {},
   "outputs": [],
   "source": [
    "#concat['Month']=concat['Last_Updated_On'].str.split(\" \",expand=True)[0] or\n",
    "concat['Month']=concat['Last_Updated_On'].str.split(\" \").str[0]\n",
    "concat['Year']=concat['Last_Updated_On'].str.split(\" \").str[2]\n",
    "concat['Year']=concat['Year'].astype('int')"
   ]
  },
  {
   "cell_type": "code",
   "execution_count": 21,
   "metadata": {},
   "outputs": [],
   "source": [
    "concat.drop(['Last_Updated_On'],axis=1,inplace=True)"
   ]
  },
  {
   "cell_type": "code",
   "execution_count": 22,
   "metadata": {},
   "outputs": [],
   "source": [
    "#use regular expression to drop + symbol\n",
    "concat['ID']=concat['Offered_By'].str.extract('(\\d+)')\n",
    "concat['ID']=concat['ID'].astype('int')\n",
    "concat.drop(['Offered_By'],axis=1,inplace=True)"
   ]
  },
  {
   "cell_type": "code",
   "execution_count": 23,
   "metadata": {},
   "outputs": [
    {
     "data": {
      "text/html": [
       "<div>\n",
       "<style scoped>\n",
       "    .dataframe tbody tr th:only-of-type {\n",
       "        vertical-align: middle;\n",
       "    }\n",
       "\n",
       "    .dataframe tbody tr th {\n",
       "        vertical-align: top;\n",
       "    }\n",
       "\n",
       "    .dataframe thead th {\n",
       "        text-align: right;\n",
       "    }\n",
       "</style>\n",
       "<table border=\"1\" class=\"dataframe\">\n",
       "  <thead>\n",
       "    <tr style=\"text-align: right;\">\n",
       "      <th></th>\n",
       "      <th>Category</th>\n",
       "      <th>Rating</th>\n",
       "      <th>Reviews</th>\n",
       "      <th>Size</th>\n",
       "      <th>Price</th>\n",
       "      <th>Content_Rating</th>\n",
       "      <th>Release_Version</th>\n",
       "      <th>OS_Version_Required</th>\n",
       "      <th>Downloads</th>\n",
       "      <th>Month</th>\n",
       "      <th>Year</th>\n",
       "      <th>ID</th>\n",
       "    </tr>\n",
       "  </thead>\n",
       "  <tbody>\n",
       "    <tr>\n",
       "      <th>0</th>\n",
       "      <td>Finance</td>\n",
       "      <td>4.18</td>\n",
       "      <td>1481</td>\n",
       "      <td>Varies with device</td>\n",
       "      <td>0.0000</td>\n",
       "      <td>Everyone</td>\n",
       "      <td>Varies with device</td>\n",
       "      <td>Varies with device</td>\n",
       "      <td>100,000+</td>\n",
       "      <td>May</td>\n",
       "      <td>2020</td>\n",
       "      <td>24654</td>\n",
       "    </tr>\n",
       "    <tr>\n",
       "      <th>1</th>\n",
       "      <td>Music And Audio</td>\n",
       "      <td>4.81</td>\n",
       "      <td>302</td>\n",
       "      <td>10M</td>\n",
       "      <td>0.0000</td>\n",
       "      <td>Everyone</td>\n",
       "      <td>3.9.18</td>\n",
       "      <td>4.1 and up</td>\n",
       "      <td>5,000+</td>\n",
       "      <td>Mar</td>\n",
       "      <td>2020</td>\n",
       "      <td>35329</td>\n",
       "    </tr>\n",
       "    <tr>\n",
       "      <th>2</th>\n",
       "      <td>Game Casual</td>\n",
       "      <td>4.27</td>\n",
       "      <td>374</td>\n",
       "      <td>27M</td>\n",
       "      <td>0.0000</td>\n",
       "      <td>Everyone</td>\n",
       "      <td>1.10.1</td>\n",
       "      <td>4.1 and up</td>\n",
       "      <td>10,000+</td>\n",
       "      <td>May</td>\n",
       "      <td>2020</td>\n",
       "      <td>11044</td>\n",
       "    </tr>\n",
       "    <tr>\n",
       "      <th>3</th>\n",
       "      <td>Business</td>\n",
       "      <td>4.03</td>\n",
       "      <td>122058</td>\n",
       "      <td>Varies with device</td>\n",
       "      <td>0.0000</td>\n",
       "      <td>Teen</td>\n",
       "      <td>Varies with device</td>\n",
       "      <td>Varies with device</td>\n",
       "      <td>10,000,000+</td>\n",
       "      <td>May</td>\n",
       "      <td>2020</td>\n",
       "      <td>36068</td>\n",
       "    </tr>\n",
       "    <tr>\n",
       "      <th>4</th>\n",
       "      <td>Medical</td>\n",
       "      <td>4.60</td>\n",
       "      <td>358</td>\n",
       "      <td>Varies with device</td>\n",
       "      <td>297.5742</td>\n",
       "      <td>Everyone</td>\n",
       "      <td>Varies with device</td>\n",
       "      <td>Varies with device</td>\n",
       "      <td>5,000+</td>\n",
       "      <td>Nov</td>\n",
       "      <td>2018</td>\n",
       "      <td>35831</td>\n",
       "    </tr>\n",
       "  </tbody>\n",
       "</table>\n",
       "</div>"
      ],
      "text/plain": [
       "          Category  Rating  Reviews                Size     Price  \\\n",
       "0          Finance    4.18     1481  Varies with device    0.0000   \n",
       "1  Music And Audio    4.81      302                 10M    0.0000   \n",
       "2      Game Casual    4.27      374                 27M    0.0000   \n",
       "3         Business    4.03   122058  Varies with device    0.0000   \n",
       "4          Medical    4.60      358  Varies with device  297.5742   \n",
       "\n",
       "  Content_Rating     Release_Version OS_Version_Required    Downloads Month  \\\n",
       "0       Everyone  Varies with device  Varies with device     100,000+   May   \n",
       "1       Everyone              3.9.18          4.1 and up       5,000+   Mar   \n",
       "2       Everyone              1.10.1          4.1 and up      10,000+   May   \n",
       "3           Teen  Varies with device  Varies with device  10,000,000+   May   \n",
       "4       Everyone  Varies with device  Varies with device       5,000+   Nov   \n",
       "\n",
       "   Year     ID  \n",
       "0  2020  24654  \n",
       "1  2020  35329  \n",
       "2  2020  11044  \n",
       "3  2020  36068  \n",
       "4  2018  35831  "
      ]
     },
     "execution_count": 23,
     "metadata": {},
     "output_type": "execute_result"
    }
   ],
   "source": [
    "concat.head()"
   ]
  },
  {
   "cell_type": "code",
   "execution_count": 24,
   "metadata": {},
   "outputs": [],
   "source": [
    "#list of object data\n",
    "str_features=(np.where(concat.dtypes==object)[0])"
   ]
  },
  {
   "cell_type": "code",
   "execution_count": 25,
   "metadata": {},
   "outputs": [
    {
     "data": {
      "text/plain": [
       "array([0, 3, 5, 6, 7, 8, 9], dtype=int64)"
      ]
     },
     "execution_count": 25,
     "metadata": {},
     "output_type": "execute_result"
    }
   ],
   "source": [
    "str_features"
   ]
  },
  {
   "cell_type": "code",
   "execution_count": 26,
   "metadata": {},
   "outputs": [],
   "source": [
    "from sklearn.preprocessing import LabelEncoder\n",
    "encoder=LabelEncoder()"
   ]
  },
  {
   "cell_type": "code",
   "execution_count": 27,
   "metadata": {},
   "outputs": [],
   "source": [
    "lis=list(concat.columns[st r_features])"
   ]
  },
  {
   "cell_type": "code",
   "execution_count": 28,
   "metadata": {},
   "outputs": [
    {
     "data": {
      "text/plain": [
       "['Category',\n",
       " 'Size',\n",
       " 'Content_Rating',\n",
       " 'Release_Version',\n",
       " 'OS_Version_Required',\n",
       " 'Downloads',\n",
       " 'Month']"
      ]
     },
     "execution_count": 28,
     "metadata": {},
     "output_type": "execute_result"
    }
   ],
   "source": [
    "lis"
   ]
  },
  {
   "cell_type": "code",
   "execution_count": 29,
   "metadata": {},
   "outputs": [],
   "source": [
    "lis.remove('Downloads')"
   ]
  },
  {
   "cell_type": "code",
   "execution_count": 30,
   "metadata": {},
   "outputs": [
    {
     "data": {
      "text/plain": [
       "['Category',\n",
       " 'Size',\n",
       " 'Content_Rating',\n",
       " 'Release_Version',\n",
       " 'OS_Version_Required',\n",
       " 'Month']"
      ]
     },
     "execution_count": 30,
     "metadata": {},
     "output_type": "execute_result"
    }
   ],
   "source": [
    "lis"
   ]
  },
  {
   "cell_type": "code",
   "execution_count": 31,
   "metadata": {},
   "outputs": [],
   "source": [
    "for i in lis:\n",
    "    concat[i]=encoder.fit_transform(concat[i].astype('str'))\n",
    "    encoder=LabelEncoder()"
   ]
  },
  {
   "cell_type": "code",
   "execution_count": 32,
   "metadata": {},
   "outputs": [
    {
     "data": {
      "text/html": [
       "<div>\n",
       "<style scoped>\n",
       "    .dataframe tbody tr th:only-of-type {\n",
       "        vertical-align: middle;\n",
       "    }\n",
       "\n",
       "    .dataframe tbody tr th {\n",
       "        vertical-align: top;\n",
       "    }\n",
       "\n",
       "    .dataframe thead th {\n",
       "        text-align: right;\n",
       "    }\n",
       "</style>\n",
       "<table border=\"1\" class=\"dataframe\">\n",
       "  <thead>\n",
       "    <tr style=\"text-align: right;\">\n",
       "      <th></th>\n",
       "      <th>Category</th>\n",
       "      <th>Rating</th>\n",
       "      <th>Reviews</th>\n",
       "      <th>Size</th>\n",
       "      <th>Price</th>\n",
       "      <th>Content_Rating</th>\n",
       "      <th>Release_Version</th>\n",
       "      <th>OS_Version_Required</th>\n",
       "      <th>Downloads</th>\n",
       "      <th>Month</th>\n",
       "      <th>Year</th>\n",
       "      <th>ID</th>\n",
       "    </tr>\n",
       "  </thead>\n",
       "  <tbody>\n",
       "    <tr>\n",
       "      <th>0</th>\n",
       "      <td>12</td>\n",
       "      <td>4.18</td>\n",
       "      <td>1481</td>\n",
       "      <td>702</td>\n",
       "      <td>0.0000</td>\n",
       "      <td>1</td>\n",
       "      <td>8031</td>\n",
       "      <td>36</td>\n",
       "      <td>100,000+</td>\n",
       "      <td>8</td>\n",
       "      <td>2020</td>\n",
       "      <td>24654</td>\n",
       "    </tr>\n",
       "    <tr>\n",
       "      <th>1</th>\n",
       "      <td>38</td>\n",
       "      <td>4.81</td>\n",
       "      <td>302</td>\n",
       "      <td>37</td>\n",
       "      <td>0.0000</td>\n",
       "      <td>1</td>\n",
       "      <td>5406</td>\n",
       "      <td>21</td>\n",
       "      <td>5,000+</td>\n",
       "      <td>7</td>\n",
       "      <td>2020</td>\n",
       "      <td>35329</td>\n",
       "    </tr>\n",
       "    <tr>\n",
       "      <th>2</th>\n",
       "      <td>21</td>\n",
       "      <td>4.27</td>\n",
       "      <td>374</td>\n",
       "      <td>175</td>\n",
       "      <td>0.0000</td>\n",
       "      <td>1</td>\n",
       "      <td>979</td>\n",
       "      <td>21</td>\n",
       "      <td>10,000+</td>\n",
       "      <td>8</td>\n",
       "      <td>2020</td>\n",
       "      <td>11044</td>\n",
       "    </tr>\n",
       "    <tr>\n",
       "      <th>3</th>\n",
       "      <td>4</td>\n",
       "      <td>4.03</td>\n",
       "      <td>122058</td>\n",
       "      <td>702</td>\n",
       "      <td>0.0000</td>\n",
       "      <td>4</td>\n",
       "      <td>8031</td>\n",
       "      <td>36</td>\n",
       "      <td>10,000,000+</td>\n",
       "      <td>8</td>\n",
       "      <td>2020</td>\n",
       "      <td>36068</td>\n",
       "    </tr>\n",
       "    <tr>\n",
       "      <th>4</th>\n",
       "      <td>37</td>\n",
       "      <td>4.60</td>\n",
       "      <td>358</td>\n",
       "      <td>702</td>\n",
       "      <td>297.5742</td>\n",
       "      <td>1</td>\n",
       "      <td>8031</td>\n",
       "      <td>36</td>\n",
       "      <td>5,000+</td>\n",
       "      <td>9</td>\n",
       "      <td>2018</td>\n",
       "      <td>35831</td>\n",
       "    </tr>\n",
       "  </tbody>\n",
       "</table>\n",
       "</div>"
      ],
      "text/plain": [
       "   Category  Rating  Reviews  Size     Price  Content_Rating  Release_Version  \\\n",
       "0        12    4.18     1481   702    0.0000               1             8031   \n",
       "1        38    4.81      302    37    0.0000               1             5406   \n",
       "2        21    4.27      374   175    0.0000               1              979   \n",
       "3         4    4.03   122058   702    0.0000               4             8031   \n",
       "4        37    4.60      358   702  297.5742               1             8031   \n",
       "\n",
       "   OS_Version_Required    Downloads  Month  Year     ID  \n",
       "0                   36     100,000+      8  2020  24654  \n",
       "1                   21       5,000+      7  2020  35329  \n",
       "2                   21      10,000+      8  2020  11044  \n",
       "3                   36  10,000,000+      8  2020  36068  \n",
       "4                   36       5,000+      9  2018  35831  "
      ]
     },
     "execution_count": 32,
     "metadata": {},
     "output_type": "execute_result"
    }
   ],
   "source": [
    "\n",
    "concat.head()"
   ]
  },
  {
   "cell_type": "code",
   "execution_count": 33,
   "metadata": {},
   "outputs": [],
   "source": [
    "from catboost import CatBoostClassifier"
   ]
  },
  {
   "cell_type": "code",
   "execution_count": 34,
   "metadata": {},
   "outputs": [],
   "source": [
    "cat=CatBoostClassifier(iterations=100,learning_rate=0.1,depth=6)"
   ]
  },
  {
   "cell_type": "code",
   "execution_count": 35,
   "metadata": {},
   "outputs": [],
   "source": [
    "train=concat.loc[concat['Downloads']!=-999,:]\n",
    "\n",
    "test=concat.loc[concat['Downloads']==-999,:]"
   ]
  },
  {
   "cell_type": "code",
   "execution_count": 36,
   "metadata": {},
   "outputs": [
    {
     "name": "stdout",
     "output_type": "stream",
     "text": [
      "(16516, 12) (24776, 12)\n"
     ]
    }
   ],
   "source": [
    "print(train.shape,test.shape)"
   ]
  },
  {
   "cell_type": "code",
   "execution_count": 37,
   "metadata": {},
   "outputs": [],
   "source": [
    "features=train.drop(['Downloads'],axis=1)\n",
    "label=train[['Downloads']].values"
   ]
  },
  {
   "cell_type": "code",
   "execution_count": 38,
   "metadata": {},
   "outputs": [
    {
     "data": {
      "text/plain": [
       "((16516, 11), (16516, 1))"
      ]
     },
     "execution_count": 38,
     "metadata": {},
     "output_type": "execute_result"
    }
   ],
   "source": [
    "features.shape,label.shape"
   ]
  },
  {
   "cell_type": "code",
   "execution_count": 39,
   "metadata": {},
   "outputs": [
    {
     "data": {
      "text/plain": [
       "2"
      ]
     },
     "execution_count": 39,
     "metadata": {},
     "output_type": "execute_result"
    }
   ],
   "source": [
    "features.ndim"
   ]
  },
  {
   "cell_type": "code",
   "execution_count": 40,
   "metadata": {},
   "outputs": [
    {
     "data": {
      "text/plain": [
       "2"
      ]
     },
     "execution_count": 40,
     "metadata": {},
     "output_type": "execute_result"
    }
   ],
   "source": [
    "label.ndim"
   ]
  },
  {
   "cell_type": "code",
   "execution_count": 41,
   "metadata": {},
   "outputs": [],
   "source": [
    "from sklearn.model_selection import train_test_split\n",
    "X_train,X_test,y_train,y_test=train_test_split(features,label,test_size=0.3,random_state=17)"
   ]
  },
  {
   "cell_type": "code",
   "execution_count": 42,
   "metadata": {},
   "outputs": [
    {
     "name": "stdout",
     "output_type": "stream",
     "text": [
      "0:\tlearn: 2.4398330\ttotal: 352ms\tremaining: 34.9s\n",
      "1:\tlearn: 2.2499255\ttotal: 503ms\tremaining: 24.6s\n",
      "2:\tlearn: 2.0980583\ttotal: 643ms\tremaining: 20.8s\n",
      "3:\tlearn: 1.9646353\ttotal: 796ms\tremaining: 19.1s\n",
      "4:\tlearn: 1.8556385\ttotal: 933ms\tremaining: 17.7s\n",
      "5:\tlearn: 1.7758493\ttotal: 1.09s\tremaining: 17s\n",
      "6:\tlearn: 1.6997615\ttotal: 1.29s\tremaining: 17.2s\n",
      "7:\tlearn: 1.6356634\ttotal: 1.47s\tremaining: 16.9s\n",
      "8:\tlearn: 1.5910201\ttotal: 1.64s\tremaining: 16.6s\n",
      "9:\tlearn: 1.5460363\ttotal: 1.78s\tremaining: 16.1s\n",
      "10:\tlearn: 1.5085770\ttotal: 1.94s\tremaining: 15.7s\n",
      "11:\tlearn: 1.4747200\ttotal: 2.08s\tremaining: 15.3s\n",
      "12:\tlearn: 1.4469267\ttotal: 2.24s\tremaining: 15s\n",
      "13:\tlearn: 1.4166466\ttotal: 2.38s\tremaining: 14.6s\n",
      "14:\tlearn: 1.3914728\ttotal: 2.54s\tremaining: 14.4s\n",
      "15:\tlearn: 1.3683282\ttotal: 2.68s\tremaining: 14.1s\n",
      "16:\tlearn: 1.3489943\ttotal: 2.83s\tremaining: 13.8s\n",
      "17:\tlearn: 1.3321022\ttotal: 2.98s\tremaining: 13.6s\n",
      "18:\tlearn: 1.3171460\ttotal: 3.13s\tremaining: 13.4s\n",
      "19:\tlearn: 1.3023113\ttotal: 3.27s\tremaining: 13.1s\n",
      "20:\tlearn: 1.2917842\ttotal: 3.41s\tremaining: 12.8s\n",
      "21:\tlearn: 1.2811279\ttotal: 3.54s\tremaining: 12.6s\n",
      "22:\tlearn: 1.2695859\ttotal: 3.7s\tremaining: 12.4s\n",
      "23:\tlearn: 1.2590172\ttotal: 3.84s\tremaining: 12.2s\n",
      "24:\tlearn: 1.2504123\ttotal: 4s\tremaining: 12s\n",
      "25:\tlearn: 1.2419158\ttotal: 4.14s\tremaining: 11.8s\n",
      "26:\tlearn: 1.2352727\ttotal: 4.3s\tremaining: 11.6s\n",
      "27:\tlearn: 1.2237742\ttotal: 4.44s\tremaining: 11.4s\n",
      "28:\tlearn: 1.2172391\ttotal: 4.6s\tremaining: 11.3s\n",
      "29:\tlearn: 1.2111623\ttotal: 4.75s\tremaining: 11.1s\n",
      "30:\tlearn: 1.2053693\ttotal: 4.9s\tremaining: 10.9s\n",
      "31:\tlearn: 1.1993931\ttotal: 5.04s\tremaining: 10.7s\n",
      "32:\tlearn: 1.1955428\ttotal: 5.2s\tremaining: 10.6s\n",
      "33:\tlearn: 1.1913352\ttotal: 5.34s\tremaining: 10.4s\n",
      "34:\tlearn: 1.1874326\ttotal: 5.5s\tremaining: 10.2s\n",
      "35:\tlearn: 1.1837475\ttotal: 5.64s\tremaining: 10s\n",
      "36:\tlearn: 1.1796780\ttotal: 5.79s\tremaining: 9.87s\n",
      "37:\tlearn: 1.1762445\ttotal: 5.93s\tremaining: 9.67s\n",
      "38:\tlearn: 1.1737603\ttotal: 6.08s\tremaining: 9.51s\n",
      "39:\tlearn: 1.1703514\ttotal: 6.22s\tremaining: 9.34s\n",
      "40:\tlearn: 1.1663227\ttotal: 6.38s\tremaining: 9.19s\n",
      "41:\tlearn: 1.1635171\ttotal: 6.53s\tremaining: 9.01s\n",
      "42:\tlearn: 1.1614892\ttotal: 6.68s\tremaining: 8.86s\n",
      "43:\tlearn: 1.1598006\ttotal: 6.82s\tremaining: 8.68s\n",
      "44:\tlearn: 1.1553141\ttotal: 6.97s\tremaining: 8.52s\n",
      "45:\tlearn: 1.1530443\ttotal: 7.12s\tremaining: 8.36s\n",
      "46:\tlearn: 1.1501710\ttotal: 7.28s\tremaining: 8.21s\n",
      "47:\tlearn: 1.1447965\ttotal: 7.43s\tremaining: 8.04s\n",
      "48:\tlearn: 1.1405867\ttotal: 7.58s\tremaining: 7.89s\n",
      "49:\tlearn: 1.1378250\ttotal: 7.73s\tremaining: 7.73s\n",
      "50:\tlearn: 1.1340211\ttotal: 7.88s\tremaining: 7.58s\n",
      "51:\tlearn: 1.1312840\ttotal: 8.03s\tremaining: 7.41s\n",
      "52:\tlearn: 1.1298101\ttotal: 8.18s\tremaining: 7.25s\n",
      "53:\tlearn: 1.1278216\ttotal: 8.32s\tremaining: 7.09s\n",
      "54:\tlearn: 1.1258574\ttotal: 8.48s\tremaining: 6.94s\n",
      "55:\tlearn: 1.1234497\ttotal: 8.62s\tremaining: 6.77s\n",
      "56:\tlearn: 1.1215141\ttotal: 8.78s\tremaining: 6.62s\n",
      "57:\tlearn: 1.1196059\ttotal: 8.91s\tremaining: 6.45s\n",
      "58:\tlearn: 1.1172472\ttotal: 9.07s\tremaining: 6.3s\n",
      "59:\tlearn: 1.1154578\ttotal: 9.21s\tremaining: 6.14s\n",
      "60:\tlearn: 1.1135042\ttotal: 9.36s\tremaining: 5.99s\n",
      "61:\tlearn: 1.1115851\ttotal: 9.5s\tremaining: 5.82s\n",
      "62:\tlearn: 1.1094747\ttotal: 9.65s\tremaining: 5.67s\n",
      "63:\tlearn: 1.1075635\ttotal: 9.79s\tremaining: 5.51s\n",
      "64:\tlearn: 1.1058244\ttotal: 9.95s\tremaining: 5.36s\n",
      "65:\tlearn: 1.1044684\ttotal: 10.1s\tremaining: 5.2s\n",
      "66:\tlearn: 1.1028035\ttotal: 10.2s\tremaining: 5.05s\n",
      "67:\tlearn: 1.1020456\ttotal: 10.4s\tremaining: 4.89s\n",
      "68:\tlearn: 1.1006337\ttotal: 10.5s\tremaining: 4.74s\n",
      "69:\tlearn: 1.0990208\ttotal: 10.7s\tremaining: 4.58s\n",
      "70:\tlearn: 1.0975342\ttotal: 10.8s\tremaining: 4.43s\n",
      "71:\tlearn: 1.0961094\ttotal: 11s\tremaining: 4.27s\n",
      "72:\tlearn: 1.0942526\ttotal: 11.1s\tremaining: 4.12s\n",
      "73:\tlearn: 1.0928180\ttotal: 11.3s\tremaining: 3.96s\n",
      "74:\tlearn: 1.0908338\ttotal: 11.4s\tremaining: 3.81s\n",
      "75:\tlearn: 1.0899109\ttotal: 11.6s\tremaining: 3.65s\n",
      "76:\tlearn: 1.0882929\ttotal: 11.7s\tremaining: 3.5s\n",
      "77:\tlearn: 1.0871291\ttotal: 11.8s\tremaining: 3.34s\n",
      "78:\tlearn: 1.0856947\ttotal: 12s\tremaining: 3.19s\n",
      "79:\tlearn: 1.0834602\ttotal: 12.1s\tremaining: 3.04s\n",
      "80:\tlearn: 1.0816320\ttotal: 12.3s\tremaining: 2.88s\n",
      "81:\tlearn: 1.0805499\ttotal: 12.4s\tremaining: 2.73s\n",
      "82:\tlearn: 1.0799230\ttotal: 12.6s\tremaining: 2.58s\n",
      "83:\tlearn: 1.0781818\ttotal: 12.7s\tremaining: 2.42s\n",
      "84:\tlearn: 1.0765983\ttotal: 12.9s\tremaining: 2.27s\n",
      "85:\tlearn: 1.0751312\ttotal: 13s\tremaining: 2.12s\n",
      "86:\tlearn: 1.0744327\ttotal: 13.2s\tremaining: 1.97s\n",
      "87:\tlearn: 1.0731910\ttotal: 13.3s\tremaining: 1.82s\n",
      "88:\tlearn: 1.0717466\ttotal: 13.5s\tremaining: 1.67s\n",
      "89:\tlearn: 1.0700807\ttotal: 13.6s\tremaining: 1.51s\n",
      "90:\tlearn: 1.0684247\ttotal: 13.8s\tremaining: 1.36s\n",
      "91:\tlearn: 1.0672786\ttotal: 13.9s\tremaining: 1.21s\n",
      "92:\tlearn: 1.0660991\ttotal: 14.1s\tremaining: 1.06s\n",
      "93:\tlearn: 1.0652261\ttotal: 14.2s\tremaining: 907ms\n",
      "94:\tlearn: 1.0635264\ttotal: 14.4s\tremaining: 756ms\n",
      "95:\tlearn: 1.0623859\ttotal: 14.5s\tremaining: 604ms\n",
      "96:\tlearn: 1.0611898\ttotal: 14.7s\tremaining: 453ms\n",
      "97:\tlearn: 1.0601044\ttotal: 14.8s\tremaining: 302ms\n",
      "98:\tlearn: 1.0587444\ttotal: 15s\tremaining: 151ms\n",
      "99:\tlearn: 1.0573269\ttotal: 15.1s\tremaining: 0us\n"
     ]
    },
    {
     "data": {
      "text/plain": [
       "<catboost.core.CatBoostClassifier at 0x1e836502670>"
      ]
     },
     "execution_count": 42,
     "metadata": {},
     "output_type": "execute_result"
    }
   ],
   "source": [
    "cat.fit(features,label)"
   ]
  },
  {
   "cell_type": "code",
   "execution_count": 44,
   "metadata": {},
   "outputs": [],
   "source": [
    "pred_cat=cat.predict_proba(test.drop(['Downloads'],axis=1))"
   ]
  },
  {
   "cell_type": "code",
   "execution_count": 46,
   "metadata": {},
   "outputs": [],
   "source": [
    "pred_cat=pd.DataFrame(pred_cat)"
   ]
  },
  {
   "cell_type": "code",
   "execution_count": 47,
   "metadata": {},
   "outputs": [
    {
     "data": {
      "text/html": [
       "<div>\n",
       "<style scoped>\n",
       "    .dataframe tbody tr th:only-of-type {\n",
       "        vertical-align: middle;\n",
       "    }\n",
       "\n",
       "    .dataframe tbody tr th {\n",
       "        vertical-align: top;\n",
       "    }\n",
       "\n",
       "    .dataframe thead th {\n",
       "        text-align: right;\n",
       "    }\n",
       "</style>\n",
       "<table border=\"1\" class=\"dataframe\">\n",
       "  <thead>\n",
       "    <tr style=\"text-align: right;\">\n",
       "      <th></th>\n",
       "      <th>0</th>\n",
       "      <th>1</th>\n",
       "      <th>2</th>\n",
       "      <th>3</th>\n",
       "      <th>4</th>\n",
       "      <th>5</th>\n",
       "      <th>6</th>\n",
       "      <th>7</th>\n",
       "      <th>8</th>\n",
       "      <th>9</th>\n",
       "      <th>10</th>\n",
       "      <th>11</th>\n",
       "      <th>12</th>\n",
       "      <th>13</th>\n",
       "      <th>14</th>\n",
       "      <th>15</th>\n",
       "      <th>16</th>\n",
       "      <th>17</th>\n",
       "    </tr>\n",
       "  </thead>\n",
       "  <tbody>\n",
       "    <tr>\n",
       "      <th>0</th>\n",
       "      <td>0.002416</td>\n",
       "      <td>0.016360</td>\n",
       "      <td>0.000090</td>\n",
       "      <td>0.000357</td>\n",
       "      <td>0.078747</td>\n",
       "      <td>0.000862</td>\n",
       "      <td>0.000612</td>\n",
       "      <td>0.654231</td>\n",
       "      <td>0.000202</td>\n",
       "      <td>0.004446</td>\n",
       "      <td>0.001288</td>\n",
       "      <td>0.000074</td>\n",
       "      <td>0.000406</td>\n",
       "      <td>0.175785</td>\n",
       "      <td>0.000227</td>\n",
       "      <td>0.000804</td>\n",
       "      <td>0.062938</td>\n",
       "      <td>0.000154</td>\n",
       "    </tr>\n",
       "    <tr>\n",
       "      <th>1</th>\n",
       "      <td>0.002535</td>\n",
       "      <td>0.161088</td>\n",
       "      <td>0.001399</td>\n",
       "      <td>0.000514</td>\n",
       "      <td>0.010585</td>\n",
       "      <td>0.007654</td>\n",
       "      <td>0.000764</td>\n",
       "      <td>0.447582</td>\n",
       "      <td>0.003075</td>\n",
       "      <td>0.002966</td>\n",
       "      <td>0.005992</td>\n",
       "      <td>0.000605</td>\n",
       "      <td>0.000548</td>\n",
       "      <td>0.061723</td>\n",
       "      <td>0.002162</td>\n",
       "      <td>0.001474</td>\n",
       "      <td>0.287783</td>\n",
       "      <td>0.001552</td>\n",
       "    </tr>\n",
       "    <tr>\n",
       "      <th>2</th>\n",
       "      <td>0.000691</td>\n",
       "      <td>0.089099</td>\n",
       "      <td>0.002061</td>\n",
       "      <td>0.000223</td>\n",
       "      <td>0.000962</td>\n",
       "      <td>0.627659</td>\n",
       "      <td>0.000362</td>\n",
       "      <td>0.002573</td>\n",
       "      <td>0.025790</td>\n",
       "      <td>0.000516</td>\n",
       "      <td>0.207893</td>\n",
       "      <td>0.000340</td>\n",
       "      <td>0.000204</td>\n",
       "      <td>0.001574</td>\n",
       "      <td>0.028307</td>\n",
       "      <td>0.000420</td>\n",
       "      <td>0.006102</td>\n",
       "      <td>0.005225</td>\n",
       "    </tr>\n",
       "    <tr>\n",
       "      <th>3</th>\n",
       "      <td>0.009480</td>\n",
       "      <td>0.010494</td>\n",
       "      <td>0.000181</td>\n",
       "      <td>0.000464</td>\n",
       "      <td>0.254823</td>\n",
       "      <td>0.001176</td>\n",
       "      <td>0.001123</td>\n",
       "      <td>0.374201</td>\n",
       "      <td>0.000336</td>\n",
       "      <td>0.024649</td>\n",
       "      <td>0.001821</td>\n",
       "      <td>0.000171</td>\n",
       "      <td>0.000545</td>\n",
       "      <td>0.288784</td>\n",
       "      <td>0.000498</td>\n",
       "      <td>0.001677</td>\n",
       "      <td>0.029363</td>\n",
       "      <td>0.000216</td>\n",
       "    </tr>\n",
       "    <tr>\n",
       "      <th>4</th>\n",
       "      <td>0.003052</td>\n",
       "      <td>0.022164</td>\n",
       "      <td>0.000157</td>\n",
       "      <td>0.000628</td>\n",
       "      <td>0.078183</td>\n",
       "      <td>0.001137</td>\n",
       "      <td>0.000839</td>\n",
       "      <td>0.622007</td>\n",
       "      <td>0.000554</td>\n",
       "      <td>0.006747</td>\n",
       "      <td>0.001748</td>\n",
       "      <td>0.000162</td>\n",
       "      <td>0.000657</td>\n",
       "      <td>0.175013</td>\n",
       "      <td>0.000596</td>\n",
       "      <td>0.001244</td>\n",
       "      <td>0.084816</td>\n",
       "      <td>0.000295</td>\n",
       "    </tr>\n",
       "    <tr>\n",
       "      <th>...</th>\n",
       "      <td>...</td>\n",
       "      <td>...</td>\n",
       "      <td>...</td>\n",
       "      <td>...</td>\n",
       "      <td>...</td>\n",
       "      <td>...</td>\n",
       "      <td>...</td>\n",
       "      <td>...</td>\n",
       "      <td>...</td>\n",
       "      <td>...</td>\n",
       "      <td>...</td>\n",
       "      <td>...</td>\n",
       "      <td>...</td>\n",
       "      <td>...</td>\n",
       "      <td>...</td>\n",
       "      <td>...</td>\n",
       "      <td>...</td>\n",
       "      <td>...</td>\n",
       "    </tr>\n",
       "    <tr>\n",
       "      <th>24771</th>\n",
       "      <td>0.244459</td>\n",
       "      <td>0.003320</td>\n",
       "      <td>0.000269</td>\n",
       "      <td>0.001659</td>\n",
       "      <td>0.401459</td>\n",
       "      <td>0.001903</td>\n",
       "      <td>0.008733</td>\n",
       "      <td>0.016841</td>\n",
       "      <td>0.000565</td>\n",
       "      <td>0.253425</td>\n",
       "      <td>0.001875</td>\n",
       "      <td>0.000233</td>\n",
       "      <td>0.001979</td>\n",
       "      <td>0.030482</td>\n",
       "      <td>0.000623</td>\n",
       "      <td>0.027057</td>\n",
       "      <td>0.004791</td>\n",
       "      <td>0.000328</td>\n",
       "    </tr>\n",
       "    <tr>\n",
       "      <th>24772</th>\n",
       "      <td>0.276729</td>\n",
       "      <td>0.000632</td>\n",
       "      <td>0.000222</td>\n",
       "      <td>0.056973</td>\n",
       "      <td>0.008034</td>\n",
       "      <td>0.000237</td>\n",
       "      <td>0.423914</td>\n",
       "      <td>0.001259</td>\n",
       "      <td>0.000176</td>\n",
       "      <td>0.035558</td>\n",
       "      <td>0.000254</td>\n",
       "      <td>0.000239</td>\n",
       "      <td>0.047302</td>\n",
       "      <td>0.002016</td>\n",
       "      <td>0.000222</td>\n",
       "      <td>0.145317</td>\n",
       "      <td>0.000717</td>\n",
       "      <td>0.000199</td>\n",
       "    </tr>\n",
       "    <tr>\n",
       "      <th>24773</th>\n",
       "      <td>0.015368</td>\n",
       "      <td>0.004201</td>\n",
       "      <td>0.000171</td>\n",
       "      <td>0.000924</td>\n",
       "      <td>0.363955</td>\n",
       "      <td>0.000631</td>\n",
       "      <td>0.002312</td>\n",
       "      <td>0.253544</td>\n",
       "      <td>0.000229</td>\n",
       "      <td>0.029074</td>\n",
       "      <td>0.001006</td>\n",
       "      <td>0.000200</td>\n",
       "      <td>0.001066</td>\n",
       "      <td>0.309791</td>\n",
       "      <td>0.000271</td>\n",
       "      <td>0.004020</td>\n",
       "      <td>0.013027</td>\n",
       "      <td>0.000211</td>\n",
       "    </tr>\n",
       "    <tr>\n",
       "      <th>24774</th>\n",
       "      <td>0.000442</td>\n",
       "      <td>0.083008</td>\n",
       "      <td>0.000624</td>\n",
       "      <td>0.000213</td>\n",
       "      <td>0.000917</td>\n",
       "      <td>0.681392</td>\n",
       "      <td>0.000307</td>\n",
       "      <td>0.003225</td>\n",
       "      <td>0.016960</td>\n",
       "      <td>0.000485</td>\n",
       "      <td>0.172562</td>\n",
       "      <td>0.000202</td>\n",
       "      <td>0.000260</td>\n",
       "      <td>0.001312</td>\n",
       "      <td>0.026760</td>\n",
       "      <td>0.000342</td>\n",
       "      <td>0.008102</td>\n",
       "      <td>0.002887</td>\n",
       "    </tr>\n",
       "    <tr>\n",
       "      <th>24775</th>\n",
       "      <td>0.001333</td>\n",
       "      <td>0.041993</td>\n",
       "      <td>0.000096</td>\n",
       "      <td>0.000219</td>\n",
       "      <td>0.041491</td>\n",
       "      <td>0.002483</td>\n",
       "      <td>0.000339</td>\n",
       "      <td>0.681429</td>\n",
       "      <td>0.000331</td>\n",
       "      <td>0.002852</td>\n",
       "      <td>0.003405</td>\n",
       "      <td>0.000099</td>\n",
       "      <td>0.000198</td>\n",
       "      <td>0.126790</td>\n",
       "      <td>0.000291</td>\n",
       "      <td>0.000552</td>\n",
       "      <td>0.095961</td>\n",
       "      <td>0.000137</td>\n",
       "    </tr>\n",
       "  </tbody>\n",
       "</table>\n",
       "<p>24776 rows × 18 columns</p>\n",
       "</div>"
      ],
      "text/plain": [
       "             0         1         2         3         4         5         6   \\\n",
       "0      0.002416  0.016360  0.000090  0.000357  0.078747  0.000862  0.000612   \n",
       "1      0.002535  0.161088  0.001399  0.000514  0.010585  0.007654  0.000764   \n",
       "2      0.000691  0.089099  0.002061  0.000223  0.000962  0.627659  0.000362   \n",
       "3      0.009480  0.010494  0.000181  0.000464  0.254823  0.001176  0.001123   \n",
       "4      0.003052  0.022164  0.000157  0.000628  0.078183  0.001137  0.000839   \n",
       "...         ...       ...       ...       ...       ...       ...       ...   \n",
       "24771  0.244459  0.003320  0.000269  0.001659  0.401459  0.001903  0.008733   \n",
       "24772  0.276729  0.000632  0.000222  0.056973  0.008034  0.000237  0.423914   \n",
       "24773  0.015368  0.004201  0.000171  0.000924  0.363955  0.000631  0.002312   \n",
       "24774  0.000442  0.083008  0.000624  0.000213  0.000917  0.681392  0.000307   \n",
       "24775  0.001333  0.041993  0.000096  0.000219  0.041491  0.002483  0.000339   \n",
       "\n",
       "             7         8         9         10        11        12        13  \\\n",
       "0      0.654231  0.000202  0.004446  0.001288  0.000074  0.000406  0.175785   \n",
       "1      0.447582  0.003075  0.002966  0.005992  0.000605  0.000548  0.061723   \n",
       "2      0.002573  0.025790  0.000516  0.207893  0.000340  0.000204  0.001574   \n",
       "3      0.374201  0.000336  0.024649  0.001821  0.000171  0.000545  0.288784   \n",
       "4      0.622007  0.000554  0.006747  0.001748  0.000162  0.000657  0.175013   \n",
       "...         ...       ...       ...       ...       ...       ...       ...   \n",
       "24771  0.016841  0.000565  0.253425  0.001875  0.000233  0.001979  0.030482   \n",
       "24772  0.001259  0.000176  0.035558  0.000254  0.000239  0.047302  0.002016   \n",
       "24773  0.253544  0.000229  0.029074  0.001006  0.000200  0.001066  0.309791   \n",
       "24774  0.003225  0.016960  0.000485  0.172562  0.000202  0.000260  0.001312   \n",
       "24775  0.681429  0.000331  0.002852  0.003405  0.000099  0.000198  0.126790   \n",
       "\n",
       "             14        15        16        17  \n",
       "0      0.000227  0.000804  0.062938  0.000154  \n",
       "1      0.002162  0.001474  0.287783  0.001552  \n",
       "2      0.028307  0.000420  0.006102  0.005225  \n",
       "3      0.000498  0.001677  0.029363  0.000216  \n",
       "4      0.000596  0.001244  0.084816  0.000295  \n",
       "...         ...       ...       ...       ...  \n",
       "24771  0.000623  0.027057  0.004791  0.000328  \n",
       "24772  0.000222  0.145317  0.000717  0.000199  \n",
       "24773  0.000271  0.004020  0.013027  0.000211  \n",
       "24774  0.026760  0.000342  0.008102  0.002887  \n",
       "24775  0.000291  0.000552  0.095961  0.000137  \n",
       "\n",
       "[24776 rows x 18 columns]"
      ]
     },
     "execution_count": 47,
     "metadata": {},
     "output_type": "execute_result"
    }
   ],
   "source": [
    "pred_cat"
   ]
  },
  {
   "cell_type": "code",
   "execution_count": 48,
   "metadata": {},
   "outputs": [],
   "source": [
    "pred_cat.to_csv(\"submission.csv\",index=False)"
   ]
  },
  {
   "cell_type": "code",
   "execution_count": null,
   "metadata": {},
   "outputs": [],
   "source": []
  }
 ],
 "metadata": {
  "kernelspec": {
   "display_name": "Python 3",
   "language": "python",
   "name": "python3"
  },
  "language_info": {
   "codemirror_mode": {
    "name": "ipython",
    "version": 3
   },
   "file_extension": ".py",
   "mimetype": "text/x-python",
   "name": "python",
   "nbconvert_exporter": "python",
   "pygments_lexer": "ipython3",
   "version": "3.8.3"
  }
 },
 "nbformat": 4,
 "nbformat_minor": 4
}
